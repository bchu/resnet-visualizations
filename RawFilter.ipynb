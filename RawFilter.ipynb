{
 "cells": [
  {
   "cell_type": "code",
   "execution_count": 74,
   "metadata": {
    "collapsed": true
   },
   "outputs": [],
   "source": [
    "import numpy as np\n",
    "import matplotlib.pyplot as plt\n",
    "# display plots in this notebook\n",
    "%matplotlib inline\n",
    "\n",
    "plt.rcParams['figure.figsize'] = (10, 10)        # large images\n",
    "plt.rcParams['image.interpolation'] = 'nearest'  # don't interpolate: show square pixels\n",
    "plt.rcParams['image.cmap'] = 'gray'  # use grayscale output rather than a (potentially misleading) color heatmap"
   ]
  },
  {
   "cell_type": "code",
   "execution_count": 75,
   "metadata": {
    "collapsed": false
   },
   "outputs": [],
   "source": [
    "import caffe"
   ]
  },
  {
   "cell_type": "code",
   "execution_count": 76,
   "metadata": {
    "collapsed": true
   },
   "outputs": [],
   "source": [
    "caffe.set_mode_cpu()"
   ]
  },
  {
   "cell_type": "code",
   "execution_count": 77,
   "metadata": {
    "collapsed": false
   },
   "outputs": [],
   "source": [
    "net = caffe.Net('./prototxt/ResNet-50-deploy.prototxt',\n",
    "               './caffe/ResNet-50-model.caffemodel', caffe.TEST)"
   ]
  },
  {
   "cell_type": "code",
   "execution_count": 78,
   "metadata": {
    "collapsed": false
   },
   "outputs": [],
   "source": [
    "def vis_square(data):\n",
    "    \"\"\"Take an array of shape (n, height, width) or (n, height, width, 3)\n",
    "       and visualize each (height, width) thing in a grid of size approx. sqrt(n) by sqrt(n)\"\"\"\n",
    "    \n",
    "    # normalize data for display\n",
    "    data = (data - data.min()) / (data.max() - data.min())\n",
    "    \n",
    "    # force the number of filters to be square\n",
    "    n = int(np.ceil(np.sqrt(data.shape[0])))\n",
    "    padding = (((0, n ** 2 - data.shape[0]),\n",
    "               (0, 1), (0, 1))                 # add some space between filters\n",
    "               + ((0, 0),) * (data.ndim - 3))  # don't pad the last dimension (if there is one)\n",
    "    data = np.pad(data, padding, mode='constant', constant_values=1)  # pad with ones (white)\n",
    "    \n",
    "    # tile the filters into an image\n",
    "    data = data.reshape((n, n) + data.shape[1:]).transpose((0, 2, 1, 3) + tuple(range(4, data.ndim + 1)))\n",
    "    data = data.reshape((n * data.shape[1], n * data.shape[3]) + data.shape[4:])\n",
    "    \n",
    "    plt.imshow(data); plt.axis('off')"
   ]
  },
  {
   "cell_type": "code",
   "execution_count": 79,
   "metadata": {
    "collapsed": false,
    "scrolled": true
   },
   "outputs": [
    {
     "data": {
      "text/plain": [
       "OrderedDict([('conv1', <caffe._caffe.BlobVec at 0x11ef11fa0>),\n",
       "             ('bn_conv1', <caffe._caffe.BlobVec at 0x103a6e910>),\n",
       "             ('scale_conv1', <caffe._caffe.BlobVec at 0x11ef06670>),\n",
       "             ('res2a_branch1', <caffe._caffe.BlobVec at 0x11ef06fa0>),\n",
       "             ('bn2a_branch1', <caffe._caffe.BlobVec at 0x11ef06ec0>),\n",
       "             ('scale2a_branch1', <caffe._caffe.BlobVec at 0x11ef069f0>),\n",
       "             ('res2a_branch2a', <caffe._caffe.BlobVec at 0x11ef06ad0>),\n",
       "             ('bn2a_branch2a', <caffe._caffe.BlobVec at 0x11ef067c0>),\n",
       "             ('scale2a_branch2a', <caffe._caffe.BlobVec at 0x11ef06d00>),\n",
       "             ('res2a_branch2b', <caffe._caffe.BlobVec at 0x11ef06830>),\n",
       "             ('bn2a_branch2b', <caffe._caffe.BlobVec at 0x11ef06280>),\n",
       "             ('scale2a_branch2b', <caffe._caffe.BlobVec at 0x11ef064b0>),\n",
       "             ('res2a_branch2c', <caffe._caffe.BlobVec at 0x11ef061a0>),\n",
       "             ('bn2a_branch2c', <caffe._caffe.BlobVec at 0x11ef062f0>),\n",
       "             ('scale2a_branch2c', <caffe._caffe.BlobVec at 0x11ef06210>),\n",
       "             ('res2b_branch2a', <caffe._caffe.BlobVec at 0x11ef06b40>),\n",
       "             ('bn2b_branch2a', <caffe._caffe.BlobVec at 0x11ef06590>),\n",
       "             ('scale2b_branch2a', <caffe._caffe.BlobVec at 0x11ef06980>),\n",
       "             ('res2b_branch2b', <caffe._caffe.BlobVec at 0x11d977050>),\n",
       "             ('bn2b_branch2b', <caffe._caffe.BlobVec at 0x11d9770c0>),\n",
       "             ('scale2b_branch2b', <caffe._caffe.BlobVec at 0x11d977130>),\n",
       "             ('res2b_branch2c', <caffe._caffe.BlobVec at 0x11d9771a0>),\n",
       "             ('bn2b_branch2c', <caffe._caffe.BlobVec at 0x11d977210>),\n",
       "             ('scale2b_branch2c', <caffe._caffe.BlobVec at 0x11d977280>),\n",
       "             ('res2c_branch2a', <caffe._caffe.BlobVec at 0x11d9772f0>),\n",
       "             ('bn2c_branch2a', <caffe._caffe.BlobVec at 0x11d977360>),\n",
       "             ('scale2c_branch2a', <caffe._caffe.BlobVec at 0x11d9773d0>),\n",
       "             ('res2c_branch2b', <caffe._caffe.BlobVec at 0x11d977440>),\n",
       "             ('bn2c_branch2b', <caffe._caffe.BlobVec at 0x11d9774b0>),\n",
       "             ('scale2c_branch2b', <caffe._caffe.BlobVec at 0x11d977520>),\n",
       "             ('res2c_branch2c', <caffe._caffe.BlobVec at 0x11d977590>),\n",
       "             ('bn2c_branch2c', <caffe._caffe.BlobVec at 0x11d977600>),\n",
       "             ('scale2c_branch2c', <caffe._caffe.BlobVec at 0x11d977670>),\n",
       "             ('res3a_branch1', <caffe._caffe.BlobVec at 0x11d9776e0>),\n",
       "             ('bn3a_branch1', <caffe._caffe.BlobVec at 0x11d977750>),\n",
       "             ('scale3a_branch1', <caffe._caffe.BlobVec at 0x11d9777c0>),\n",
       "             ('res3a_branch2a', <caffe._caffe.BlobVec at 0x11d977830>),\n",
       "             ('bn3a_branch2a', <caffe._caffe.BlobVec at 0x11d9778a0>),\n",
       "             ('scale3a_branch2a', <caffe._caffe.BlobVec at 0x11d977910>),\n",
       "             ('res3a_branch2b', <caffe._caffe.BlobVec at 0x11d977980>),\n",
       "             ('bn3a_branch2b', <caffe._caffe.BlobVec at 0x11d9779f0>),\n",
       "             ('scale3a_branch2b', <caffe._caffe.BlobVec at 0x11d977a60>),\n",
       "             ('res3a_branch2c', <caffe._caffe.BlobVec at 0x11d977ad0>),\n",
       "             ('bn3a_branch2c', <caffe._caffe.BlobVec at 0x11d977b40>),\n",
       "             ('scale3a_branch2c', <caffe._caffe.BlobVec at 0x11d977bb0>),\n",
       "             ('res3b_branch2a', <caffe._caffe.BlobVec at 0x11d977c20>),\n",
       "             ('bn3b_branch2a', <caffe._caffe.BlobVec at 0x11d977c90>),\n",
       "             ('scale3b_branch2a', <caffe._caffe.BlobVec at 0x11d977d00>),\n",
       "             ('res3b_branch2b', <caffe._caffe.BlobVec at 0x11d977d70>),\n",
       "             ('bn3b_branch2b', <caffe._caffe.BlobVec at 0x11d977de0>),\n",
       "             ('scale3b_branch2b', <caffe._caffe.BlobVec at 0x11d977e50>),\n",
       "             ('res3b_branch2c', <caffe._caffe.BlobVec at 0x11d977ec0>),\n",
       "             ('bn3b_branch2c', <caffe._caffe.BlobVec at 0x11d977f30>),\n",
       "             ('scale3b_branch2c', <caffe._caffe.BlobVec at 0x11d977fa0>),\n",
       "             ('res3c_branch2a', <caffe._caffe.BlobVec at 0x11d94b050>),\n",
       "             ('bn3c_branch2a', <caffe._caffe.BlobVec at 0x11d94b0c0>),\n",
       "             ('scale3c_branch2a', <caffe._caffe.BlobVec at 0x11d94b130>),\n",
       "             ('res3c_branch2b', <caffe._caffe.BlobVec at 0x11d94b1a0>),\n",
       "             ('bn3c_branch2b', <caffe._caffe.BlobVec at 0x11d94b210>),\n",
       "             ('scale3c_branch2b', <caffe._caffe.BlobVec at 0x11d94b280>),\n",
       "             ('res3c_branch2c', <caffe._caffe.BlobVec at 0x11d94b2f0>),\n",
       "             ('bn3c_branch2c', <caffe._caffe.BlobVec at 0x11d94b360>),\n",
       "             ('scale3c_branch2c', <caffe._caffe.BlobVec at 0x11d94b3d0>),\n",
       "             ('res3d_branch2a', <caffe._caffe.BlobVec at 0x11d94b440>),\n",
       "             ('bn3d_branch2a', <caffe._caffe.BlobVec at 0x11d94b4b0>),\n",
       "             ('scale3d_branch2a', <caffe._caffe.BlobVec at 0x11d94b520>),\n",
       "             ('res3d_branch2b', <caffe._caffe.BlobVec at 0x11d94b590>),\n",
       "             ('bn3d_branch2b', <caffe._caffe.BlobVec at 0x11d94b600>),\n",
       "             ('scale3d_branch2b', <caffe._caffe.BlobVec at 0x11d94b670>),\n",
       "             ('res3d_branch2c', <caffe._caffe.BlobVec at 0x11d94b6e0>),\n",
       "             ('bn3d_branch2c', <caffe._caffe.BlobVec at 0x11d94b750>),\n",
       "             ('scale3d_branch2c', <caffe._caffe.BlobVec at 0x11d94b7c0>),\n",
       "             ('res4a_branch1', <caffe._caffe.BlobVec at 0x11d94b830>),\n",
       "             ('bn4a_branch1', <caffe._caffe.BlobVec at 0x11d94b8a0>),\n",
       "             ('scale4a_branch1', <caffe._caffe.BlobVec at 0x11d94b910>),\n",
       "             ('res4a_branch2a', <caffe._caffe.BlobVec at 0x11d94b980>),\n",
       "             ('bn4a_branch2a', <caffe._caffe.BlobVec at 0x11d94b9f0>),\n",
       "             ('scale4a_branch2a', <caffe._caffe.BlobVec at 0x11d94ba60>),\n",
       "             ('res4a_branch2b', <caffe._caffe.BlobVec at 0x11d94bad0>),\n",
       "             ('bn4a_branch2b', <caffe._caffe.BlobVec at 0x11d94bb40>),\n",
       "             ('scale4a_branch2b', <caffe._caffe.BlobVec at 0x11d94bbb0>),\n",
       "             ('res4a_branch2c', <caffe._caffe.BlobVec at 0x11d94bc20>),\n",
       "             ('bn4a_branch2c', <caffe._caffe.BlobVec at 0x11d94bc90>),\n",
       "             ('scale4a_branch2c', <caffe._caffe.BlobVec at 0x11d94bd00>),\n",
       "             ('res4b_branch2a', <caffe._caffe.BlobVec at 0x11d94bd70>),\n",
       "             ('bn4b_branch2a', <caffe._caffe.BlobVec at 0x11d94bde0>),\n",
       "             ('scale4b_branch2a', <caffe._caffe.BlobVec at 0x11d94be50>),\n",
       "             ('res4b_branch2b', <caffe._caffe.BlobVec at 0x11d94bec0>),\n",
       "             ('bn4b_branch2b', <caffe._caffe.BlobVec at 0x11d94bf30>),\n",
       "             ('scale4b_branch2b', <caffe._caffe.BlobVec at 0x11d94bfa0>),\n",
       "             ('res4b_branch2c', <caffe._caffe.BlobVec at 0x11e542050>),\n",
       "             ('bn4b_branch2c', <caffe._caffe.BlobVec at 0x11e5420c0>),\n",
       "             ('scale4b_branch2c', <caffe._caffe.BlobVec at 0x11e542130>),\n",
       "             ('res4c_branch2a', <caffe._caffe.BlobVec at 0x11e5421a0>),\n",
       "             ('bn4c_branch2a', <caffe._caffe.BlobVec at 0x11e542210>),\n",
       "             ('scale4c_branch2a', <caffe._caffe.BlobVec at 0x11e542280>),\n",
       "             ('res4c_branch2b', <caffe._caffe.BlobVec at 0x11e5422f0>),\n",
       "             ('bn4c_branch2b', <caffe._caffe.BlobVec at 0x11e542360>),\n",
       "             ('scale4c_branch2b', <caffe._caffe.BlobVec at 0x11e5423d0>),\n",
       "             ('res4c_branch2c', <caffe._caffe.BlobVec at 0x11e542440>),\n",
       "             ('bn4c_branch2c', <caffe._caffe.BlobVec at 0x11e5424b0>),\n",
       "             ('scale4c_branch2c', <caffe._caffe.BlobVec at 0x11e542520>),\n",
       "             ('res4d_branch2a', <caffe._caffe.BlobVec at 0x11e542590>),\n",
       "             ('bn4d_branch2a', <caffe._caffe.BlobVec at 0x11e542600>),\n",
       "             ('scale4d_branch2a', <caffe._caffe.BlobVec at 0x11e542670>),\n",
       "             ('res4d_branch2b', <caffe._caffe.BlobVec at 0x11e5426e0>),\n",
       "             ('bn4d_branch2b', <caffe._caffe.BlobVec at 0x11e542750>),\n",
       "             ('scale4d_branch2b', <caffe._caffe.BlobVec at 0x11e5427c0>),\n",
       "             ('res4d_branch2c', <caffe._caffe.BlobVec at 0x11e542830>),\n",
       "             ('bn4d_branch2c', <caffe._caffe.BlobVec at 0x11e5428a0>),\n",
       "             ('scale4d_branch2c', <caffe._caffe.BlobVec at 0x11e542910>),\n",
       "             ('res4e_branch2a', <caffe._caffe.BlobVec at 0x11e542980>),\n",
       "             ('bn4e_branch2a', <caffe._caffe.BlobVec at 0x11e5429f0>),\n",
       "             ('scale4e_branch2a', <caffe._caffe.BlobVec at 0x11e542a60>),\n",
       "             ('res4e_branch2b', <caffe._caffe.BlobVec at 0x11e542ad0>),\n",
       "             ('bn4e_branch2b', <caffe._caffe.BlobVec at 0x11e542b40>),\n",
       "             ('scale4e_branch2b', <caffe._caffe.BlobVec at 0x11e542bb0>),\n",
       "             ('res4e_branch2c', <caffe._caffe.BlobVec at 0x11e542c20>),\n",
       "             ('bn4e_branch2c', <caffe._caffe.BlobVec at 0x11e542c90>),\n",
       "             ('scale4e_branch2c', <caffe._caffe.BlobVec at 0x11e542d00>),\n",
       "             ('res4f_branch2a', <caffe._caffe.BlobVec at 0x11e542d70>),\n",
       "             ('bn4f_branch2a', <caffe._caffe.BlobVec at 0x11e542de0>),\n",
       "             ('scale4f_branch2a', <caffe._caffe.BlobVec at 0x11e542e50>),\n",
       "             ('res4f_branch2b', <caffe._caffe.BlobVec at 0x11e542ec0>),\n",
       "             ('bn4f_branch2b', <caffe._caffe.BlobVec at 0x11e542f30>),\n",
       "             ('scale4f_branch2b', <caffe._caffe.BlobVec at 0x11e542fa0>),\n",
       "             ('res4f_branch2c', <caffe._caffe.BlobVec at 0x11e538050>),\n",
       "             ('bn4f_branch2c', <caffe._caffe.BlobVec at 0x11e5380c0>),\n",
       "             ('scale4f_branch2c', <caffe._caffe.BlobVec at 0x11e538130>),\n",
       "             ('res5a_branch1', <caffe._caffe.BlobVec at 0x11e5381a0>),\n",
       "             ('bn5a_branch1', <caffe._caffe.BlobVec at 0x11e538210>),\n",
       "             ('scale5a_branch1', <caffe._caffe.BlobVec at 0x11e538280>),\n",
       "             ('res5a_branch2a', <caffe._caffe.BlobVec at 0x11e5382f0>),\n",
       "             ('bn5a_branch2a', <caffe._caffe.BlobVec at 0x11e538360>),\n",
       "             ('scale5a_branch2a', <caffe._caffe.BlobVec at 0x11e5383d0>),\n",
       "             ('res5a_branch2b', <caffe._caffe.BlobVec at 0x11e538440>),\n",
       "             ('bn5a_branch2b', <caffe._caffe.BlobVec at 0x11e5384b0>),\n",
       "             ('scale5a_branch2b', <caffe._caffe.BlobVec at 0x11e538520>),\n",
       "             ('res5a_branch2c', <caffe._caffe.BlobVec at 0x11e538590>),\n",
       "             ('bn5a_branch2c', <caffe._caffe.BlobVec at 0x11e538600>),\n",
       "             ('scale5a_branch2c', <caffe._caffe.BlobVec at 0x11e538670>),\n",
       "             ('res5b_branch2a', <caffe._caffe.BlobVec at 0x11e5386e0>),\n",
       "             ('bn5b_branch2a', <caffe._caffe.BlobVec at 0x11e538750>),\n",
       "             ('scale5b_branch2a', <caffe._caffe.BlobVec at 0x11e5387c0>),\n",
       "             ('res5b_branch2b', <caffe._caffe.BlobVec at 0x11e538830>),\n",
       "             ('bn5b_branch2b', <caffe._caffe.BlobVec at 0x11e5388a0>),\n",
       "             ('scale5b_branch2b', <caffe._caffe.BlobVec at 0x11e538910>),\n",
       "             ('res5b_branch2c', <caffe._caffe.BlobVec at 0x11e538980>),\n",
       "             ('bn5b_branch2c', <caffe._caffe.BlobVec at 0x11e5389f0>),\n",
       "             ('scale5b_branch2c', <caffe._caffe.BlobVec at 0x11e538a60>),\n",
       "             ('res5c_branch2a', <caffe._caffe.BlobVec at 0x11e538ad0>),\n",
       "             ('bn5c_branch2a', <caffe._caffe.BlobVec at 0x11e538b40>),\n",
       "             ('scale5c_branch2a', <caffe._caffe.BlobVec at 0x11e538bb0>),\n",
       "             ('res5c_branch2b', <caffe._caffe.BlobVec at 0x11e538c20>),\n",
       "             ('bn5c_branch2b', <caffe._caffe.BlobVec at 0x11e538c90>),\n",
       "             ('scale5c_branch2b', <caffe._caffe.BlobVec at 0x11e538d00>),\n",
       "             ('res5c_branch2c', <caffe._caffe.BlobVec at 0x11e538d70>),\n",
       "             ('bn5c_branch2c', <caffe._caffe.BlobVec at 0x11e538de0>),\n",
       "             ('scale5c_branch2c', <caffe._caffe.BlobVec at 0x11e538e50>),\n",
       "             ('fc1000', <caffe._caffe.BlobVec at 0x11e538ec0>)])"
      ]
     },
     "execution_count": 79,
     "metadata": {},
     "output_type": "execute_result"
    }
   ],
   "source": [
    "net.params"
   ]
  },
  {
   "cell_type": "markdown",
   "metadata": {},
   "source": [
    "# conv1"
   ]
  },
  {
   "cell_type": "code",
   "execution_count": 80,
   "metadata": {
    "collapsed": false
   },
   "outputs": [
    {
     "data": {
      "image/png": "[encoded data removed]",
      "text/plain": [
       "<matplotlib.figure.Figure at 0x11d9c4710>"
      ]
     },
     "metadata": {},
     "output_type": "display_data"
    }
   ],
   "source": [
    "filters = net.params['conv1'][0].data\n",
    "vis_square(filters.transpose(0, 2, 3, 1))"
   ]
  },
  {
   "cell_type": "markdown",
   "metadata": {},
   "source": [
    "# res2a_branch2b "
   ]
  },
  {
   "cell_type": "code",
   "execution_count": 81,
   "metadata": {
    "collapsed": false
   },
   "outputs": [
    {
     "data": {
      "image/png": "[encoded data removed]",
      "text/plain": [
       "<matplotlib.figure.Figure at 0x120d85510>"
      ]
     },
     "metadata": {},
     "output_type": "display_data"
    }
   ],
   "source": [
    "filters2 = net.params['res2a_branch2b'][0].data\n",
    "vis_square(np.reshape(filters2, (-1, 3, 3))[:225,:,:])"
   ]
  },
  {
   "cell_type": "markdown",
   "metadata": {},
   "source": [
    "# res5c_branch2b"
   ]
  },
  {
   "cell_type": "code",
   "execution_count": 82,
   "metadata": {
    "collapsed": false
   },
   "outputs": [
    {
     "data": {
      "image/png": "[encoded data removed]",
      "text/plain": [
       "<matplotlib.figure.Figure at 0x120d64e10>"
      ]
     },
     "metadata": {},
     "output_type": "display_data"
    }
   ],
   "source": [
    "filters3 = net.params['res5c_branch2b'][0].data\n",
    "vis_square(np.reshape(filters3, (-1, 3, 3))[:225,:,:])"
   ]
  },
  {
   "cell_type": "code",
   "execution_count": null,
   "metadata": {
    "collapsed": true
   },
   "outputs": [],
   "source": []
  }
 ],
 "metadata": {
  "kernelspec": {
   "display_name": "Python 2",
   "language": "python",
   "name": "python2"
  },
  "language_info": {
   "codemirror_mode": {
    "name": "ipython",
    "version": 2
   },
   "file_extension": ".py",
   "mimetype": "text/x-python",
   "name": "python",
   "nbconvert_exporter": "python",
   "pygments_lexer": "ipython2",
   "version": "2.7.11"
  }
 },
 "nbformat": 4,
 "nbformat_minor": 0
}
